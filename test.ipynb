{
 "cells": [
  {
   "cell_type": "code",
   "execution_count": 1,
   "metadata": {},
   "outputs": [
    {
     "name": "stdout",
     "output_type": "stream",
     "text": [
      "Top level directory is set to: /home/wyatt.mccurdy/Github/Project-Part-2/task1/\n",
      "Training data directory is set to: /home/wyatt.mccurdy/Github/Project-Part-2/task1/training/t1_training/TRAINING DATA (2023 COLLECTION)/\n"
     ]
    }
   ],
   "source": [
    "# Set up the paths\n",
    "import os\n",
    "\n",
    "\n",
    "create_all_new = True\n",
    "top_level_dir = '/home/wyatt.mccurdy/Github/Project-Part-2/task1/'\n",
    "print(f\"Top level directory is set to: {top_level_dir}\")\n",
    "\n",
    "# Set up training data directory\n",
    "training_data_dir = 'training/t1_training/TRAINING DATA (2023 COLLECTION)/'\n",
    "training_data_dir = os.path.join(top_level_dir, training_data_dir)\n",
    "print(f\"Training data directory is set to: {training_data_dir}\")\n",
    "\n",
    "training_qrels_majority_2 = 'g_qrels_majority_2.csv'\n",
    "training_rels_consenso = 'g_rels_consenso.csv'"
   ]
  },
  {
   "cell_type": "code",
   "execution_count": 2,
   "metadata": {},
   "outputs": [
    {
     "data": {
      "text/plain": [
       "['g_rels_consenso.csv',\n",
       " 'eRisk2023_T1.ZIP',\n",
       " 'g_qrels_majority_2.csv',\n",
       " 'new_data']"
      ]
     },
     "execution_count": 2,
     "metadata": {},
     "output_type": "execute_result"
    }
   ],
   "source": [
    "os.listdir(training_data_dir)"
   ]
  },
  {
   "cell_type": "code",
   "execution_count": null,
   "metadata": {},
   "outputs": [],
   "source": []
  }
 ],
 "metadata": {
  "kernelspec": {
   "display_name": "conda_pytorch",
   "language": "python",
   "name": "python3"
  },
  "language_info": {
   "codemirror_mode": {
    "name": "ipython",
    "version": 3
   },
   "file_extension": ".py",
   "mimetype": "text/x-python",
   "name": "python",
   "nbconvert_exporter": "python",
   "pygments_lexer": "ipython3",
   "version": "3.8.19"
  }
 },
 "nbformat": 4,
 "nbformat_minor": 2
}
